{
 "cells": [
  {
   "cell_type": "code",
   "execution_count": 2,
   "metadata": {},
   "outputs": [
    {
     "name": "stdout",
     "output_type": "stream",
     "text": [
      "Welcome to Dice world\n",
      "Press 1 to play\n",
      "Press 2 to exit1\n",
      "You have 3 in your dice!!\n",
      "Press 1 to play\n",
      "Press 2 to exit3\n",
      "Invalid Input by user!!\n",
      "Game over\n"
     ]
    }
   ],
   "source": [
    "# Dice Rolling Game\n",
    "\n",
    "import random\n",
    "print(\"Welcome to Dice world\")\n",
    "while True:\n",
    "    choice = input(\"Press 1 to play\\nPress 2 to exit\")\n",
    "    if choice == '2':\n",
    "        print(\"User Quit\")\n",
    "        break\n",
    "    elif choice == '1':\n",
    "        num = random.randint(1,6)\n",
    "        print(\"You have\",num,\"in your dice!!\")\n",
    "    else:\n",
    "        print(\"Invalid Input by user!!\")\n",
    "        print(\"Game over\")\n",
    "        break"
   ]
  },
  {
   "cell_type": "code",
   "execution_count": 3,
   "metadata": {},
   "outputs": [
    {
     "name": "stdout",
     "output_type": "stream",
     "text": [
      "Welcome to Guess the Number Game\n",
      "Enter the number between 1-105\n",
      "Try some bigger number\n",
      "Enter the number between 1-106\n",
      "Try some bigger number\n",
      "Enter the number between 1-108\n",
      "You win\n",
      "Press 1 to play more\n",
      "Press 2 to exit1\n",
      "Enter the number between 1-108\n",
      "You win\n",
      "Press 1 to play more\n",
      "Press 2 to exit5\n",
      "Enter the number between 1-108\n",
      "You win\n",
      "Press 1 to play more\n",
      "Press 2 to exit2\n"
     ]
    }
   ],
   "source": [
    "# Guess the number\n",
    "\n",
    "print(\"Welcome to Guess the Number Game\")\n",
    "\n",
    "while True:\n",
    "    num = int(input(\"Enter the number between 1-10\"))\n",
    "    if num == 8:\n",
    "        print(\"You win\")\n",
    "        # break\n",
    "        choice = int(input(\"Press 1 to play more\\nPress 2 to exit\"))\n",
    "        if choice == 2:\n",
    "            break\n",
    "    elif num > 8:\n",
    "        print(\"Try smaller numbers\")\n",
    "    elif num < 8:\n",
    "        print(\"Try some bigger number\")"
   ]
  },
  {
   "cell_type": "code",
   "execution_count": 4,
   "metadata": {},
   "outputs": [
    {
     "name": "stdout",
     "output_type": "stream",
     "text": [
      "Welcome to password generator\n",
      "Enter the len of passwd you want!!9\n",
      "}5@YJyUf_\n",
      "Enter the choice 1 or 2 \n",
      "1.Need more password\n",
      "2.Exit1\n",
      "Enter the len of passwd you want!!6\n",
      "8XndPe\n",
      "Enter the choice 1 or 2 \n",
      "1.Need more password\n",
      "2.Exit2\n"
     ]
    }
   ],
   "source": [
    "# Password Generator\n",
    "\n",
    "#importing modules\n",
    "import random\n",
    "import string\n",
    "\n",
    "print(\"Welcome to password generator\")\n",
    "# def random_passwd_generator():\n",
    "while True:\n",
    "\n",
    "    # asking user for the length of password\n",
    "    length = int(input(\"Enter the len of passwd you want!!\"))\n",
    "\n",
    "    # using string module to get lowercase,uppercase,digits,symbols\n",
    "    lowercase_data = string.ascii_lowercase\n",
    "    uppercase_data = string.ascii_uppercase\n",
    "    digits = string.digits\n",
    "    spcl_char = string.punctuation\n",
    "\n",
    "    # combining all the data\n",
    "    combine_data = lowercase_data+uppercase_data+digits+spcl_char\n",
    "\n",
    "    # creating the password with random module\n",
    "    initial_password = random.sample(combine_data,length)\n",
    "\n",
    "    # convert the passwrd into string because before this password is stored in list\n",
    "    password = \"\".join(initial_password)\n",
    "    print(password)\n",
    "\n",
    "\n",
    "    # after getting one password as output program is giving choice to the user\n",
    "\n",
    "    option = int(input(\"Enter the choice 1 or 2 \\n1.Need more password\\n2.Exit\"))\n",
    "    if option == 2:\n",
    "        break\n"
   ]
  },
  {
   "cell_type": "code",
   "execution_count": null,
   "metadata": {},
   "outputs": [],
   "source": []
  }
 ],
 "metadata": {
  "kernelspec": {
   "display_name": "Python 3",
   "language": "python",
   "name": "python3"
  },
  "language_info": {
   "codemirror_mode": {
    "name": "ipython",
    "version": 3
   },
   "file_extension": ".py",
   "mimetype": "text/x-python",
   "name": "python",
   "nbconvert_exporter": "python",
   "pygments_lexer": "ipython3",
   "version": "3.6.4"
  }
 },
 "nbformat": 4,
 "nbformat_minor": 2
}
